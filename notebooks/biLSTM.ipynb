{
  "nbformat": 4,
  "nbformat_minor": 0,
  "metadata": {
    "colab": {
      "provenance": [],
      "gpuType": "T4"
    },
    "kernelspec": {
      "name": "python3",
      "display_name": "Python 3"
    },
    "language_info": {
      "name": "python"
    },
    "accelerator": "GPU"
  },
  "cells": [
    {
      "cell_type": "code",
      "source": [
        "import pandas as pd\n",
        "import numpy as np\n",
        "import re\n",
        "import nltk\n",
        "from nltk.corpus import stopwords\n",
        "from keras.preprocessing.text import Tokenizer\n",
        "from keras.utils import pad_sequences\n",
        "from sklearn.model_selection import train_test_split\n",
        "from keras.models import Sequential\n",
        "from keras.layers import Embedding, Bidirectional, LSTM, Dense\n",
        "from keras.callbacks import EarlyStopping\n",
        "from sklearn.metrics import classification_report"
      ],
      "metadata": {
        "id": "ilbCCE28oeyg"
      },
      "execution_count": null,
      "outputs": []
    },
    {
      "cell_type": "code",
      "source": [
        "from google.colab import drive\n",
        "drive.mount('/content/drive')"
      ],
      "metadata": {
        "colab": {
          "base_uri": "https://localhost:8080/"
        },
        "id": "XR135utrog7N",
        "outputId": "0bd5d836-bc28-4e03-8771-b953db5a7b59"
      },
      "execution_count": null,
      "outputs": [
        {
          "output_type": "stream",
          "name": "stdout",
          "text": [
            "Mounted at /content/drive\n"
          ]
        }
      ]
    },
    {
      "cell_type": "code",
      "source": [
        "train_df = pd.read_csv('/content/drive/MyDrive/Sentiment Analysis/train.csv')\n",
        "test_df = pd.read_csv('/content/drive/MyDrive/Sentiment Analysis/test.csv')"
      ],
      "metadata": {
        "id": "zIc8E4Qoog3M"
      },
      "execution_count": null,
      "outputs": []
    },
    {
      "cell_type": "code",
      "source": [
        "nltk.download('stopwords')\n",
        "def clean_text(text):\n",
        "    text = re.sub(r'<.*?>', '', text)\n",
        "    text = re.sub(r'\\d+', '', text)\n",
        "    text = text.lower()\n",
        "    text = re.sub(r'[^\\w\\s]', '', text)\n",
        "    text = \" \".join([word for word in text.split() if word not in stopwords.words('english')])\n",
        "    return text"
      ],
      "metadata": {
        "colab": {
          "base_uri": "https://localhost:8080/"
        },
        "id": "aJZgAX2Pogxa",
        "outputId": "0e3a1533-9aaf-4456-de31-a6fd545fc886"
      },
      "execution_count": null,
      "outputs": [
        {
          "output_type": "stream",
          "name": "stderr",
          "text": [
            "[nltk_data] Downloading package stopwords to /root/nltk_data...\n",
            "[nltk_data]   Unzipping corpora/stopwords.zip.\n"
          ]
        }
      ]
    },
    {
      "cell_type": "code",
      "source": [
        "train_df['CleanedText'] = train_df['text'].apply(clean_text)"
      ],
      "metadata": {
        "id": "HUm5JPCiogs8"
      },
      "execution_count": null,
      "outputs": []
    },
    {
      "cell_type": "code",
      "source": [
        "polarity_mapping = {'positive': 2, 'neutral': 1, 'negative': 0}\n",
        "train_df['PolarityLabel'] = train_df['polarity'].map(polarity_mapping)"
      ],
      "metadata": {
        "id": "WYyuCoSdoglL"
      },
      "execution_count": null,
      "outputs": []
    },
    {
      "cell_type": "code",
      "source": [
        "X = train_df['CleanedText']\n",
        "y = train_df['PolarityLabel']\n",
        "\n",
        "X_train, X_val, y_train, y_val = train_test_split(X, y, test_size=0.2, random_state=42)"
      ],
      "metadata": {
        "id": "aCk9gbfmoghd"
      },
      "execution_count": null,
      "outputs": []
    },
    {
      "cell_type": "code",
      "source": [
        "tokenizer = Tokenizer()\n",
        "tokenizer.fit_on_texts(X_train)\n",
        "X_train_seq = tokenizer.texts_to_sequences(X_train)\n",
        "X_val_seq = tokenizer.texts_to_sequences(X_val)"
      ],
      "metadata": {
        "id": "rTfT2mtAogcA"
      },
      "execution_count": null,
      "outputs": []
    },
    {
      "cell_type": "code",
      "source": [
        "max_len = max([len(seq) for seq in X_train_seq])\n",
        "X_train_padded = pad_sequences(X_train_seq, maxlen=max_len)\n",
        "X_val_padded = pad_sequences(X_val_seq, maxlen=max_len)"
      ],
      "metadata": {
        "id": "fZc6Nc2zogWI"
      },
      "execution_count": null,
      "outputs": []
    },
    {
      "cell_type": "code",
      "source": [
        "embedding_dict = {}\n",
        "with open('/content/drive/MyDrive/ML/glove.6B.100d.txt', 'r') as file:\n",
        "    for line in file:\n",
        "        values = line.split()\n",
        "        word = values[0]\n",
        "        vector = np.asarray(values[1:], 'float32')\n",
        "        embedding_dict[word] = vector\n",
        "\n",
        "vocab_size = len(tokenizer.word_index) + 1\n",
        "embedding_matrix = np.zeros((vocab_size, 100))\n",
        "for word, i in tokenizer.word_index.items():\n",
        "    embedding_vector = embedding_dict.get(word)\n",
        "    if embedding_vector is not None:\n",
        "        embedding_matrix[i] = embedding_vector"
      ],
      "metadata": {
        "id": "jo08yZbhogLY"
      },
      "execution_count": null,
      "outputs": []
    },
    {
      "cell_type": "code",
      "source": [
        "# Bidirectional LSTM model with GloVe embeddings\n",
        "model_with_glove = Sequential()\n",
        "model_with_glove.add(Embedding(vocab_size, 100, input_length=max_len, weights=[embedding_matrix], trainable=False))\n",
        "model_with_glove.add(Bidirectional(LSTM(128)))\n",
        "model_with_glove.add(Dense(3, activation='softmax'))\n",
        "model_with_glove.compile(optimizer='adam', loss='sparse_categorical_crossentropy', metrics=['accuracy'])"
      ],
      "metadata": {
        "id": "pgQNFbSFo7VI"
      },
      "execution_count": null,
      "outputs": []
    },
    {
      "cell_type": "code",
      "source": [
        "early_stop = EarlyStopping(monitor='val_loss', patience=3)\n",
        "model_with_glove.fit(X_train_padded, y_train, epochs=10, batch_size=32, validation_data=(X_val_padded, y_val), callbacks=[early_stop])"
      ],
      "metadata": {
        "colab": {
          "base_uri": "https://localhost:8080/"
        },
        "id": "S3LRyLW4o-C3",
        "outputId": "d7c079fb-b823-4a09-8b86-8307770c0d14"
      },
      "execution_count": null,
      "outputs": [
        {
          "output_type": "stream",
          "name": "stdout",
          "text": [
            "Epoch 1/10\n",
            "78/78 [==============================] - 6s 22ms/step - loss: 0.8097 - accuracy: 0.6500 - val_loss: 0.6962 - val_accuracy: 0.7242\n",
            "Epoch 2/10\n",
            "78/78 [==============================] - 1s 13ms/step - loss: 0.5806 - accuracy: 0.7703 - val_loss: 0.6387 - val_accuracy: 0.7435\n",
            "Epoch 3/10\n",
            "78/78 [==============================] - 1s 16ms/step - loss: 0.4949 - accuracy: 0.8026 - val_loss: 0.6006 - val_accuracy: 0.7661\n",
            "Epoch 4/10\n",
            "78/78 [==============================] - 1s 16ms/step - loss: 0.4384 - accuracy: 0.8333 - val_loss: 0.6837 - val_accuracy: 0.7516\n",
            "Epoch 5/10\n",
            "78/78 [==============================] - 1s 16ms/step - loss: 0.4045 - accuracy: 0.8478 - val_loss: 0.5907 - val_accuracy: 0.7855\n",
            "Epoch 6/10\n",
            "78/78 [==============================] - 1s 14ms/step - loss: 0.3583 - accuracy: 0.8664 - val_loss: 0.6505 - val_accuracy: 0.7677\n",
            "Epoch 7/10\n",
            "78/78 [==============================] - 1s 11ms/step - loss: 0.3246 - accuracy: 0.8732 - val_loss: 0.6232 - val_accuracy: 0.7758\n",
            "Epoch 8/10\n",
            "78/78 [==============================] - 1s 11ms/step - loss: 0.2955 - accuracy: 0.8987 - val_loss: 0.6417 - val_accuracy: 0.7613\n"
          ]
        },
        {
          "output_type": "execute_result",
          "data": {
            "text/plain": [
              "<keras.src.callbacks.History at 0x7a08640c7610>"
            ]
          },
          "metadata": {},
          "execution_count": 12
        }
      ]
    },
    {
      "cell_type": "code",
      "source": [
        "# Prepare the test dataset for prediction\n",
        "test_df['CleanedText'] = test_df['text'].apply(clean_text)\n",
        "test_seq = tokenizer.texts_to_sequences(test_df['CleanedText'])\n",
        "test_padded = pad_sequences(test_seq, maxlen=max_len)"
      ],
      "metadata": {
        "id": "GKlajxmAo_oB"
      },
      "execution_count": null,
      "outputs": []
    },
    {
      "cell_type": "code",
      "source": [
        "predictions_with_glove = model_with_glove.predict(test_padded)\n",
        "predicted_classes_with_glove = np.argmax(predictions_with_glove, axis=1)"
      ],
      "metadata": {
        "colab": {
          "base_uri": "https://localhost:8080/"
        },
        "id": "3-c4KLfhpNDg",
        "outputId": "35258f85-73c2-4e7e-c282-762425bc8fe4"
      },
      "execution_count": null,
      "outputs": [
        {
          "output_type": "stream",
          "name": "stdout",
          "text": [
            "42/42 [==============================] - 1s 7ms/step\n"
          ]
        }
      ]
    },
    {
      "cell_type": "code",
      "source": [
        "submission_with_glove = pd.DataFrame({'Id': test_df['id'], 'Polarity': predicted_classes_with_glove})\n",
        "submission_with_glove.to_csv('/content/drive/MyDrive/Sentiment Analysis/submission_with_glove.csv', index=False)"
      ],
      "metadata": {
        "id": "ZGr6vyE0ptL_"
      },
      "execution_count": null,
      "outputs": []
    },
    {
      "cell_type": "code",
      "source": [
        "error_analysis_data = X_val.sample(n=80, random_state=1)"
      ],
      "metadata": {
        "id": "dn6y9ctfmiQW"
      },
      "execution_count": null,
      "outputs": []
    },
    {
      "cell_type": "code",
      "source": [
        "error_analysis_seq = tokenizer.texts_to_sequences(error_analysis_data)\n",
        "error_analysis_padded = pad_sequences(error_analysis_seq, maxlen=max_len)"
      ],
      "metadata": {
        "id": "pz6aUbKdnpws"
      },
      "execution_count": null,
      "outputs": []
    },
    {
      "cell_type": "code",
      "source": [
        "error_analysis_predictions = model_with_glove.predict(error_analysis_padded)\n",
        "error_analysis_predicted_classes = np.argmax(error_analysis_predictions, axis=1)\n",
        "error_analysis_actual_classes = y_val.loc[error_analysis_data.index]"
      ],
      "metadata": {
        "colab": {
          "base_uri": "https://localhost:8080/"
        },
        "id": "WVWLrMH3npqd",
        "outputId": "ea5a09b4-49b0-423e-fbb1-859a174e483f"
      },
      "execution_count": null,
      "outputs": [
        {
          "output_type": "stream",
          "name": "stdout",
          "text": [
            "3/3 [==============================] - 0s 7ms/step\n"
          ]
        }
      ]
    },
    {
      "cell_type": "code",
      "source": [
        "for predicted_class, actual_class, text in zip(error_analysis_predicted_classes, error_analysis_actual_classes, error_analysis_data):\n",
        "    if predicted_class != actual_class:\n",
        "        print(f\"Text: {text}\\nPredicted: {predicted_class}\\nActual: {actual_class}\\n\")"
      ],
      "metadata": {
        "colab": {
          "base_uri": "https://localhost:8080/"
        },
        "id": "qZ2ZbQOynph5",
        "outputId": "90e6f1e0-e995-484e-d98a-b4ba44c0a659"
      },
      "execution_count": null,
      "outputs": [
        {
          "output_type": "stream",
          "name": "stdout",
          "text": [
            "Text: awesome im actually familiar sdl im going look\n",
            "Predicted: 1\n",
            "Actual: 2\n",
            "\n",
            "Text: logger logger new loggergetlogger id worried impending logpocalypse\n",
            "Predicted: 2\n",
            "Actual: 0\n",
            "\n",
            "Text: rendering issue fixed ie need worry\n",
            "Predicted: 1\n",
            "Actual: 2\n",
            "\n",
            "Text: use symlinks instead alias sad ui go terminal type first path base path original file second base path symlink filefolder etc\n",
            "Predicted: 0\n",
            "Actual: 1\n",
            "\n",
            "Text: came across idiom opensource python choked drink rather even code read see result typical idiom python performance hack runs fast onceoff needs code review\n",
            "Predicted: 1\n",
            "Actual: 0\n",
            "\n",
            "Text: shameeeee\n",
            "Predicted: 1\n",
            "Actual: 0\n",
            "\n",
            "Text: know exact contents csv files dont worry escaping characters etc used dottrace jetbrains profiling actually use code project csvreader parts code performance important piece code reason asked\n",
            "Predicted: 2\n",
            "Actual: 1\n",
            "\n",
            "Text: excellent example implement twodimensional arraylist use specific case need reinvent wheel go\n",
            "Predicted: 2\n",
            "Actual: 1\n",
            "\n",
            "Text: false false false im afraid would need make negation xor order make correct\n",
            "Predicted: 0\n",
            "Actual: 1\n",
            "\n",
            "Text: options always one item option multiple horrid api\n",
            "Predicted: 1\n",
            "Actual: 0\n",
            "\n",
            "Text: implementing similar hand way im afraid advice use class definition override properties class b implementation functionally act similarly downside wrapped class instance longer changed independently class b instance requirement\n",
            "Predicted: 1\n",
            "Actual: 0\n",
            "\n",
            "Text: works browsers windows oslevel thing browserlevel thing\n",
            "Predicted: 0\n",
            "Actual: 1\n",
            "\n",
            "Text: eruby external executable erb library within ruby would use former wanted independent processing template files eg quickanddirty php replacement latter needed process within context ruby script common use erb simply flexible ill admit guilty dabbling eruby execute files quick little utility websites\n",
            "Predicted: 1\n",
            "Actual: 0\n",
            "\n",
            "Text: sounds scary use floating point number key map\n",
            "Predicted: 1\n",
            "Actual: 0\n",
            "\n",
            "Text: isnt generic code effectively point clearer need cast cast really anything execution time course youre calling really want effectively another case java generics bit pain\n",
            "Predicted: 1\n",
            "Actual: 0\n",
            "\n",
            "Text: see wc examples youll fine delete cookie javascript deleting cookie simple set expires parameter passed date\n",
            "Predicted: 2\n",
            "Actual: 1\n",
            "\n",
            "Text: added reference excellent article showing go\n",
            "Predicted: 2\n",
            "Actual: 1\n",
            "\n",
            "Text: way aid gmail making threads currently using subjects really uglyfies subject lot\n",
            "Predicted: 2\n",
            "Actual: 0\n",
            "\n"
          ]
        }
      ]
    },
    {
      "cell_type": "code",
      "source": [
        "# Bidirectional LSTM model without GloVe embeddings\n",
        "model_without_glove = Sequential()\n",
        "model_without_glove.add(Embedding(vocab_size, 100, input_length=max_len))\n",
        "model_without_glove.add(Bidirectional(LSTM(128)))\n",
        "model_without_glove.add(Dense(3, activation='softmax'))\n",
        "model_without_glove.compile(optimizer='adam', loss='sparse_categorical_crossentropy', metrics=['accuracy'])"
      ],
      "metadata": {
        "id": "o7dYM5NwpOsR"
      },
      "execution_count": null,
      "outputs": []
    },
    {
      "cell_type": "code",
      "source": [
        "model_without_glove.fit(X_train_padded, y_train, epochs=10, batch_size=32, validation_data=(X_val_padded, y_val), callbacks=[early_stop])"
      ],
      "metadata": {
        "colab": {
          "base_uri": "https://localhost:8080/"
        },
        "id": "fgKuyR19piuN",
        "outputId": "56566a29-1a1a-449e-bd6b-e28f10797134"
      },
      "execution_count": null,
      "outputs": [
        {
          "output_type": "stream",
          "name": "stdout",
          "text": [
            "Epoch 1/10\n",
            "78/78 [==============================] - 17s 175ms/step - loss: 0.9962 - accuracy: 0.5216 - val_loss: 0.8591 - val_accuracy: 0.6145\n",
            "Epoch 2/10\n",
            "78/78 [==============================] - 8s 98ms/step - loss: 0.6199 - accuracy: 0.7630 - val_loss: 0.7259 - val_accuracy: 0.6935\n",
            "Epoch 3/10\n",
            "78/78 [==============================] - 9s 118ms/step - loss: 0.2774 - accuracy: 0.9031 - val_loss: 0.7367 - val_accuracy: 0.7177\n",
            "Epoch 4/10\n",
            "78/78 [==============================] - 4s 46ms/step - loss: 0.1136 - accuracy: 0.9657 - val_loss: 0.8481 - val_accuracy: 0.7129\n",
            "Epoch 5/10\n",
            "78/78 [==============================] - 4s 55ms/step - loss: 0.0538 - accuracy: 0.9859 - val_loss: 1.1172 - val_accuracy: 0.7194\n"
          ]
        },
        {
          "output_type": "execute_result",
          "data": {
            "text/plain": [
              "<keras.src.callbacks.History at 0x7a080b905a50>"
            ]
          },
          "metadata": {},
          "execution_count": 23
        }
      ]
    },
    {
      "cell_type": "code",
      "source": [
        "predictions_without_glove = model_without_glove.predict(test_padded)\n",
        "predicted_classes_without_glove = np.argmax(predictions_without_glove, axis=1)"
      ],
      "metadata": {
        "colab": {
          "base_uri": "https://localhost:8080/"
        },
        "id": "mPGe0cDfpkbP",
        "outputId": "84151c38-506e-49b4-9018-705a9f02d2fc"
      },
      "execution_count": null,
      "outputs": [
        {
          "output_type": "stream",
          "name": "stdout",
          "text": [
            "42/42 [==============================] - 1s 6ms/step\n"
          ]
        }
      ]
    },
    {
      "cell_type": "code",
      "source": [
        "submission_without_glove = pd.DataFrame({'Id': test_df['id'], 'Polarity': predicted_classes_without_glove})\n",
        "submission_without_glove.to_csv('/content/drive/MyDrive/Sentiment Analysis/submission_without_glove.csv', index=False)"
      ],
      "metadata": {
        "id": "nlrH43ESplsP"
      },
      "execution_count": null,
      "outputs": []
    },
    {
      "cell_type": "code",
      "source": [
        "error_analysis_data = X_val.sample(n=80, random_state=1)"
      ],
      "metadata": {
        "id": "V9KeBqCrn78e"
      },
      "execution_count": null,
      "outputs": []
    },
    {
      "cell_type": "code",
      "source": [
        "error_analysis_seq = tokenizer.texts_to_sequences(error_analysis_data)\n",
        "error_analysis_padded = pad_sequences(error_analysis_seq, maxlen=max_len)"
      ],
      "metadata": {
        "id": "tBdVm9myn78f"
      },
      "execution_count": null,
      "outputs": []
    },
    {
      "cell_type": "code",
      "source": [
        "error_analysis_predictions = model_with_glove.predict(error_analysis_padded)\n",
        "error_analysis_predicted_classes = np.argmax(error_analysis_predictions, axis=1)\n",
        "error_analysis_actual_classes = y_val.loc[error_analysis_data.index]"
      ],
      "metadata": {
        "colab": {
          "base_uri": "https://localhost:8080/"
        },
        "outputId": "eb4d2252-bcb2-4843-860d-a478f0140fa0",
        "id": "aI_EXIMbn78f"
      },
      "execution_count": null,
      "outputs": [
        {
          "output_type": "stream",
          "name": "stdout",
          "text": [
            "3/3 [==============================] - 0s 6ms/step\n"
          ]
        }
      ]
    },
    {
      "cell_type": "code",
      "source": [
        "for predicted_class, actual_class, text in zip(error_analysis_predicted_classes, error_analysis_actual_classes, error_analysis_data):\n",
        "    if predicted_class != actual_class:\n",
        "        print(f\"Text: {text}\\nPredicted: {predicted_class}\\nActual: {actual_class}\\n\")"
      ],
      "metadata": {
        "colab": {
          "base_uri": "https://localhost:8080/"
        },
        "outputId": "45dbfbfd-dcfc-4075-88f8-cfc60b9e77e8",
        "id": "3XH00VH5n78f"
      },
      "execution_count": null,
      "outputs": [
        {
          "output_type": "stream",
          "name": "stdout",
          "text": [
            "Text: awesome im actually familiar sdl im going look\n",
            "Predicted: 1\n",
            "Actual: 2\n",
            "\n",
            "Text: logger logger new loggergetlogger id worried impending logpocalypse\n",
            "Predicted: 2\n",
            "Actual: 0\n",
            "\n",
            "Text: rendering issue fixed ie need worry\n",
            "Predicted: 1\n",
            "Actual: 2\n",
            "\n",
            "Text: use symlinks instead alias sad ui go terminal type first path base path original file second base path symlink filefolder etc\n",
            "Predicted: 0\n",
            "Actual: 1\n",
            "\n",
            "Text: came across idiom opensource python choked drink rather even code read see result typical idiom python performance hack runs fast onceoff needs code review\n",
            "Predicted: 1\n",
            "Actual: 0\n",
            "\n",
            "Text: shameeeee\n",
            "Predicted: 1\n",
            "Actual: 0\n",
            "\n",
            "Text: know exact contents csv files dont worry escaping characters etc used dottrace jetbrains profiling actually use code project csvreader parts code performance important piece code reason asked\n",
            "Predicted: 2\n",
            "Actual: 1\n",
            "\n",
            "Text: excellent example implement twodimensional arraylist use specific case need reinvent wheel go\n",
            "Predicted: 2\n",
            "Actual: 1\n",
            "\n",
            "Text: false false false im afraid would need make negation xor order make correct\n",
            "Predicted: 0\n",
            "Actual: 1\n",
            "\n",
            "Text: options always one item option multiple horrid api\n",
            "Predicted: 1\n",
            "Actual: 0\n",
            "\n",
            "Text: implementing similar hand way im afraid advice use class definition override properties class b implementation functionally act similarly downside wrapped class instance longer changed independently class b instance requirement\n",
            "Predicted: 1\n",
            "Actual: 0\n",
            "\n",
            "Text: works browsers windows oslevel thing browserlevel thing\n",
            "Predicted: 0\n",
            "Actual: 1\n",
            "\n",
            "Text: eruby external executable erb library within ruby would use former wanted independent processing template files eg quickanddirty php replacement latter needed process within context ruby script common use erb simply flexible ill admit guilty dabbling eruby execute files quick little utility websites\n",
            "Predicted: 1\n",
            "Actual: 0\n",
            "\n",
            "Text: sounds scary use floating point number key map\n",
            "Predicted: 1\n",
            "Actual: 0\n",
            "\n",
            "Text: isnt generic code effectively point clearer need cast cast really anything execution time course youre calling really want effectively another case java generics bit pain\n",
            "Predicted: 1\n",
            "Actual: 0\n",
            "\n",
            "Text: see wc examples youll fine delete cookie javascript deleting cookie simple set expires parameter passed date\n",
            "Predicted: 2\n",
            "Actual: 1\n",
            "\n",
            "Text: added reference excellent article showing go\n",
            "Predicted: 2\n",
            "Actual: 1\n",
            "\n",
            "Text: way aid gmail making threads currently using subjects really uglyfies subject lot\n",
            "Predicted: 2\n",
            "Actual: 0\n",
            "\n"
          ]
        }
      ]
    }
  ]
}